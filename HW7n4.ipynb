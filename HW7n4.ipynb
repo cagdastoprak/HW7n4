{
  "nbformat": 4,
  "nbformat_minor": 0,
  "metadata": {
    "colab": {
      "name": "HW7n4",
      "provenance": []
    },
    "kernelspec": {
      "name": "python3",
      "display_name": "Python 3"
    }
  },
  "cells": [
    {
      "cell_type": "code",
      "metadata": {
        "id": "LklpxcPifFJN",
        "colab_type": "code",
        "colab": {
          "base_uri": "https://localhost:8080/",
          "height": 34
        },
        "outputId": "a322e30d-bab4-432a-b5d1-f70ff8f68a00"
      },
      "source": [
        "from google.colab import drive\n",
        "drive.mount('/content/drive')"
      ],
      "execution_count": 61,
      "outputs": [
        {
          "output_type": "stream",
          "text": [
            "Drive already mounted at /content/drive; to attempt to forcibly remount, call drive.mount(\"/content/drive\", force_remount=True).\n"
          ],
          "name": "stdout"
        }
      ]
    },
    {
      "cell_type": "code",
      "metadata": {
        "id": "wwO19-7efJt9",
        "colab_type": "code",
        "colab": {
          "base_uri": "https://localhost:8080/",
          "height": 218
        },
        "outputId": "3a99e456-78db-47bf-da47-e49c7674e14c"
      },
      "source": [
        "%cd /content/drive/My\\ Drive/Colab\\ Notebooks/data\n",
        "# change directory\n",
        "%pwd  # Ben neredeyim komutu\n",
        "!ls    # İçerisinde ne var "
      ],
      "execution_count": 62,
      "outputs": [
        {
          "output_type": "stream",
          "text": [
            "/content/drive/My Drive/Colab Notebooks/data\n",
            " analyticsDeneme.csv\t        productPerformanceReport.csv\n",
            " cleveland-0_vs_4.dat\t        productPerformanceReportEng.csv\n",
            " cleveland.xlsx\t\t        regression_cagdas_converted.csv\n",
            " Data_Frame_Raw_Data_v1.csv     regression_cagdas_converted.gsheet\n",
            " Data_Frame_Raw_Data_v2.csv     states_all.csv\n",
            " Data_Frame_Raw_Data_v3.csv     StudentsPerformance.csv\n",
            "'Data Frame Raw Data v3.xlsx'  'Test (uid-trafficType-shoppingStage).csv'\n",
            "'Data Frame Raw Data v4.csv'    Titanic\n",
            " EvFiyatlari\t\t        weatherHistory.csv\n",
            " fifa.csv\t\t        youtube.csv\n",
            " insurance.csv\n"
          ],
          "name": "stdout"
        }
      ]
    },
    {
      "cell_type": "code",
      "metadata": {
        "id": "C7LEPqqlfL9w",
        "colab_type": "code",
        "colab": {}
      },
      "source": [
        "import pandas as pd\n",
        "import numpy as np\n",
        "from sklearn import linear_model\n",
        "from sklearn.linear_model import LinearRegression\n",
        "from sklearn.model_selection import train_test_split\n",
        "from sklearn.metrics import mean_absolute_error\n",
        "import statsmodels.api as sm\n",
        "from statsmodels.tools.eval_measures import mse, rmse\n",
        "\n",
        "%matplotlib inline\n",
        "pd.options.display.float_format = '{:.3f}'.format\n",
        "\n",
        "import matplotlib.pyplot as plt\n",
        "import seaborn as sns\n",
        "import statsmodels.api as sm\n",
        "from sklearn import linear_model\n",
        "import math\n",
        "#from matplotlib.mlab import PCA as mlabPCA\n",
        "from sklearn.preprocessing import StandardScaler\n",
        "from sklearn.decomposition import PCA\n",
        "from sqlalchemy import create_engine\n",
        "pd.options.display.max_columns = None #kolon ve satır gösterim limitlerini sıfırlamak\n",
        "pd.options.display.max_rows = None  #kolon ve satır gösterim limitlerini sıfırlamak\n",
        "import warnings\n",
        "\n",
        "warnings.filterwarnings('ignore')\n",
        "\n",
        "%matplotlib inline\n",
        "pd.options.display.float_format = '{:.3f}'.format"
      ],
      "execution_count": 63,
      "outputs": []
    },
    {
      "cell_type": "code",
      "metadata": {
        "id": "ZEeva7ImfN22",
        "colab_type": "code",
        "colab": {
          "base_uri": "https://localhost:8080/",
          "height": 195
        },
        "outputId": "240bece9-47e0-4d33-883b-5e33c4b231ff"
      },
      "source": [
        "original_data = pd.read_excel(\"cleveland.xlsx\")\n",
        "data=original_data.copy()\n",
        "original_data.head()"
      ],
      "execution_count": 64,
      "outputs": [
        {
          "output_type": "execute_result",
          "data": {
            "text/html": [
              "<div>\n",
              "<style scoped>\n",
              "    .dataframe tbody tr th:only-of-type {\n",
              "        vertical-align: middle;\n",
              "    }\n",
              "\n",
              "    .dataframe tbody tr th {\n",
              "        vertical-align: top;\n",
              "    }\n",
              "\n",
              "    .dataframe thead th {\n",
              "        text-align: right;\n",
              "    }\n",
              "</style>\n",
              "<table border=\"1\" class=\"dataframe\">\n",
              "  <thead>\n",
              "    <tr style=\"text-align: right;\">\n",
              "      <th></th>\n",
              "      <th>age</th>\n",
              "      <th>sex</th>\n",
              "      <th>cp</th>\n",
              "      <th>trestbps</th>\n",
              "      <th>chol</th>\n",
              "      <th>fbs</th>\n",
              "      <th>restecg</th>\n",
              "      <th>thalach</th>\n",
              "      <th>exang</th>\n",
              "      <th>oldpeak</th>\n",
              "      <th>slope</th>\n",
              "      <th>ca</th>\n",
              "      <th>thal</th>\n",
              "      <th>num</th>\n",
              "    </tr>\n",
              "  </thead>\n",
              "  <tbody>\n",
              "    <tr>\n",
              "      <th>0</th>\n",
              "      <td>63.000</td>\n",
              "      <td>1.000</td>\n",
              "      <td>1.000</td>\n",
              "      <td>145.000</td>\n",
              "      <td>233.000</td>\n",
              "      <td>1.000</td>\n",
              "      <td>2.000</td>\n",
              "      <td>150.000</td>\n",
              "      <td>0.000</td>\n",
              "      <td>2.300</td>\n",
              "      <td>3.000</td>\n",
              "      <td>0.000</td>\n",
              "      <td>6.000</td>\n",
              "      <td>negative</td>\n",
              "    </tr>\n",
              "    <tr>\n",
              "      <th>1</th>\n",
              "      <td>37.000</td>\n",
              "      <td>1.000</td>\n",
              "      <td>3.000</td>\n",
              "      <td>130.000</td>\n",
              "      <td>250.000</td>\n",
              "      <td>0.000</td>\n",
              "      <td>0.000</td>\n",
              "      <td>187.000</td>\n",
              "      <td>0.000</td>\n",
              "      <td>3.500</td>\n",
              "      <td>3.000</td>\n",
              "      <td>0.000</td>\n",
              "      <td>3.000</td>\n",
              "      <td>negative</td>\n",
              "    </tr>\n",
              "    <tr>\n",
              "      <th>2</th>\n",
              "      <td>41.000</td>\n",
              "      <td>0.000</td>\n",
              "      <td>2.000</td>\n",
              "      <td>130.000</td>\n",
              "      <td>204.000</td>\n",
              "      <td>0.000</td>\n",
              "      <td>2.000</td>\n",
              "      <td>172.000</td>\n",
              "      <td>0.000</td>\n",
              "      <td>1.400</td>\n",
              "      <td>1.000</td>\n",
              "      <td>0.000</td>\n",
              "      <td>3.000</td>\n",
              "      <td>negative</td>\n",
              "    </tr>\n",
              "    <tr>\n",
              "      <th>3</th>\n",
              "      <td>56.000</td>\n",
              "      <td>1.000</td>\n",
              "      <td>2.000</td>\n",
              "      <td>120.000</td>\n",
              "      <td>236.000</td>\n",
              "      <td>0.000</td>\n",
              "      <td>0.000</td>\n",
              "      <td>178.000</td>\n",
              "      <td>0.000</td>\n",
              "      <td>0.800</td>\n",
              "      <td>1.000</td>\n",
              "      <td>0.000</td>\n",
              "      <td>3.000</td>\n",
              "      <td>negative</td>\n",
              "    </tr>\n",
              "    <tr>\n",
              "      <th>4</th>\n",
              "      <td>57.000</td>\n",
              "      <td>0.000</td>\n",
              "      <td>4.000</td>\n",
              "      <td>120.000</td>\n",
              "      <td>354.000</td>\n",
              "      <td>0.000</td>\n",
              "      <td>0.000</td>\n",
              "      <td>163.000</td>\n",
              "      <td>1.000</td>\n",
              "      <td>0.600</td>\n",
              "      <td>1.000</td>\n",
              "      <td>0.000</td>\n",
              "      <td>3.000</td>\n",
              "      <td>negative</td>\n",
              "    </tr>\n",
              "  </tbody>\n",
              "</table>\n",
              "</div>"
            ],
            "text/plain": [
              "     age   sex    cp  trestbps    chol   fbs  restecg  thalach  exang  \\\n",
              "0 63.000 1.000 1.000   145.000 233.000 1.000    2.000  150.000  0.000   \n",
              "1 37.000 1.000 3.000   130.000 250.000 0.000    0.000  187.000  0.000   \n",
              "2 41.000 0.000 2.000   130.000 204.000 0.000    2.000  172.000  0.000   \n",
              "3 56.000 1.000 2.000   120.000 236.000 0.000    0.000  178.000  0.000   \n",
              "4 57.000 0.000 4.000   120.000 354.000 0.000    0.000  163.000  1.000   \n",
              "\n",
              "   oldpeak  slope    ca  thal       num  \n",
              "0    2.300  3.000 0.000 6.000  negative  \n",
              "1    3.500  3.000 0.000 3.000  negative  \n",
              "2    1.400  1.000 0.000 3.000  negative  \n",
              "3    0.800  1.000 0.000 3.000  negative  \n",
              "4    0.600  1.000 0.000 3.000  negative  "
            ]
          },
          "metadata": {
            "tags": []
          },
          "execution_count": 64
        }
      ]
    },
    {
      "cell_type": "code",
      "metadata": {
        "id": "442egWat5fBo",
        "colab_type": "code",
        "colab": {
          "base_uri": "https://localhost:8080/",
          "height": 370
        },
        "outputId": "39357789-0066-4364-ce64-e61c61f57370"
      },
      "source": [
        "data.info()"
      ],
      "execution_count": 65,
      "outputs": [
        {
          "output_type": "stream",
          "text": [
            "<class 'pandas.core.frame.DataFrame'>\n",
            "RangeIndex: 173 entries, 0 to 172\n",
            "Data columns (total 14 columns):\n",
            " #   Column    Non-Null Count  Dtype  \n",
            "---  ------    --------------  -----  \n",
            " 0   age       173 non-null    float64\n",
            " 1   sex       173 non-null    float64\n",
            " 2   cp        173 non-null    float64\n",
            " 3   trestbps  173 non-null    float64\n",
            " 4   chol      173 non-null    float64\n",
            " 5   fbs       173 non-null    float64\n",
            " 6   restecg   173 non-null    float64\n",
            " 7   thalach   173 non-null    float64\n",
            " 8   exang     173 non-null    float64\n",
            " 9   oldpeak   173 non-null    float64\n",
            " 10  slope     173 non-null    float64\n",
            " 11  ca        173 non-null    float64\n",
            " 12  thal      173 non-null    float64\n",
            " 13  num       173 non-null    object \n",
            "dtypes: float64(13), object(1)\n",
            "memory usage: 19.0+ KB\n"
          ],
          "name": "stdout"
        }
      ]
    },
    {
      "cell_type": "code",
      "metadata": {
        "id": "WavVEw0qzWhf",
        "colab_type": "code",
        "colab": {
          "base_uri": "https://localhost:8080/",
          "height": 195
        },
        "outputId": "58ef3056-7b34-44e0-ec14-c0e0e56afcef"
      },
      "source": [
        "data=pd.get_dummies(data,prefix_sep='_',drop_first=True)\n",
        "data.head()"
      ],
      "execution_count": 66,
      "outputs": [
        {
          "output_type": "execute_result",
          "data": {
            "text/html": [
              "<div>\n",
              "<style scoped>\n",
              "    .dataframe tbody tr th:only-of-type {\n",
              "        vertical-align: middle;\n",
              "    }\n",
              "\n",
              "    .dataframe tbody tr th {\n",
              "        vertical-align: top;\n",
              "    }\n",
              "\n",
              "    .dataframe thead th {\n",
              "        text-align: right;\n",
              "    }\n",
              "</style>\n",
              "<table border=\"1\" class=\"dataframe\">\n",
              "  <thead>\n",
              "    <tr style=\"text-align: right;\">\n",
              "      <th></th>\n",
              "      <th>age</th>\n",
              "      <th>sex</th>\n",
              "      <th>cp</th>\n",
              "      <th>trestbps</th>\n",
              "      <th>chol</th>\n",
              "      <th>fbs</th>\n",
              "      <th>restecg</th>\n",
              "      <th>thalach</th>\n",
              "      <th>exang</th>\n",
              "      <th>oldpeak</th>\n",
              "      <th>slope</th>\n",
              "      <th>ca</th>\n",
              "      <th>thal</th>\n",
              "      <th>num_positive</th>\n",
              "    </tr>\n",
              "  </thead>\n",
              "  <tbody>\n",
              "    <tr>\n",
              "      <th>0</th>\n",
              "      <td>63.000</td>\n",
              "      <td>1.000</td>\n",
              "      <td>1.000</td>\n",
              "      <td>145.000</td>\n",
              "      <td>233.000</td>\n",
              "      <td>1.000</td>\n",
              "      <td>2.000</td>\n",
              "      <td>150.000</td>\n",
              "      <td>0.000</td>\n",
              "      <td>2.300</td>\n",
              "      <td>3.000</td>\n",
              "      <td>0.000</td>\n",
              "      <td>6.000</td>\n",
              "      <td>0</td>\n",
              "    </tr>\n",
              "    <tr>\n",
              "      <th>1</th>\n",
              "      <td>37.000</td>\n",
              "      <td>1.000</td>\n",
              "      <td>3.000</td>\n",
              "      <td>130.000</td>\n",
              "      <td>250.000</td>\n",
              "      <td>0.000</td>\n",
              "      <td>0.000</td>\n",
              "      <td>187.000</td>\n",
              "      <td>0.000</td>\n",
              "      <td>3.500</td>\n",
              "      <td>3.000</td>\n",
              "      <td>0.000</td>\n",
              "      <td>3.000</td>\n",
              "      <td>0</td>\n",
              "    </tr>\n",
              "    <tr>\n",
              "      <th>2</th>\n",
              "      <td>41.000</td>\n",
              "      <td>0.000</td>\n",
              "      <td>2.000</td>\n",
              "      <td>130.000</td>\n",
              "      <td>204.000</td>\n",
              "      <td>0.000</td>\n",
              "      <td>2.000</td>\n",
              "      <td>172.000</td>\n",
              "      <td>0.000</td>\n",
              "      <td>1.400</td>\n",
              "      <td>1.000</td>\n",
              "      <td>0.000</td>\n",
              "      <td>3.000</td>\n",
              "      <td>0</td>\n",
              "    </tr>\n",
              "    <tr>\n",
              "      <th>3</th>\n",
              "      <td>56.000</td>\n",
              "      <td>1.000</td>\n",
              "      <td>2.000</td>\n",
              "      <td>120.000</td>\n",
              "      <td>236.000</td>\n",
              "      <td>0.000</td>\n",
              "      <td>0.000</td>\n",
              "      <td>178.000</td>\n",
              "      <td>0.000</td>\n",
              "      <td>0.800</td>\n",
              "      <td>1.000</td>\n",
              "      <td>0.000</td>\n",
              "      <td>3.000</td>\n",
              "      <td>0</td>\n",
              "    </tr>\n",
              "    <tr>\n",
              "      <th>4</th>\n",
              "      <td>57.000</td>\n",
              "      <td>0.000</td>\n",
              "      <td>4.000</td>\n",
              "      <td>120.000</td>\n",
              "      <td>354.000</td>\n",
              "      <td>0.000</td>\n",
              "      <td>0.000</td>\n",
              "      <td>163.000</td>\n",
              "      <td>1.000</td>\n",
              "      <td>0.600</td>\n",
              "      <td>1.000</td>\n",
              "      <td>0.000</td>\n",
              "      <td>3.000</td>\n",
              "      <td>0</td>\n",
              "    </tr>\n",
              "  </tbody>\n",
              "</table>\n",
              "</div>"
            ],
            "text/plain": [
              "     age   sex    cp  trestbps    chol   fbs  restecg  thalach  exang  \\\n",
              "0 63.000 1.000 1.000   145.000 233.000 1.000    2.000  150.000  0.000   \n",
              "1 37.000 1.000 3.000   130.000 250.000 0.000    0.000  187.000  0.000   \n",
              "2 41.000 0.000 2.000   130.000 204.000 0.000    2.000  172.000  0.000   \n",
              "3 56.000 1.000 2.000   120.000 236.000 0.000    0.000  178.000  0.000   \n",
              "4 57.000 0.000 4.000   120.000 354.000 0.000    0.000  163.000  1.000   \n",
              "\n",
              "   oldpeak  slope    ca  thal  num_positive  \n",
              "0    2.300  3.000 0.000 6.000             0  \n",
              "1    3.500  3.000 0.000 3.000             0  \n",
              "2    1.400  1.000 0.000 3.000             0  \n",
              "3    0.800  1.000 0.000 3.000             0  \n",
              "4    0.600  1.000 0.000 3.000             0  "
            ]
          },
          "metadata": {
            "tags": []
          },
          "execution_count": 66
        }
      ]
    },
    {
      "cell_type": "code",
      "metadata": {
        "id": "FbCtD-6Jzwol",
        "colab_type": "code",
        "colab": {
          "base_uri": "https://localhost:8080/",
          "height": 314
        },
        "outputId": "543a04f7-f04e-4fb7-9fc1-097917cd3400"
      },
      "source": [
        "sns.countplot(data.num_positive)\n",
        "print(\"Negatif oranı : %{:.2f}\".format(sum(data.num_positive)/len(data.num_positive)*100))\n",
        "print(\"Positif oranı    : %{:.2f}\".format((len(data.num_positive)-sum(data.num_positive))/len(data.num_positive)*100))"
      ],
      "execution_count": 67,
      "outputs": [
        {
          "output_type": "stream",
          "text": [
            "Negatif oranı : %7.51\n",
            "Positif oranı    : %92.49\n"
          ],
          "name": "stdout"
        },
        {
          "output_type": "display_data",
          "data": {
            "image/png": "[encoded data removed]",
            "text/plain": [
              "<Figure size 432x288 with 1 Axes>"
            ]
          },
          "metadata": {
            "tags": [],
            "needs_background": "light"
          }
        }
      ]
    },
    {
      "cell_type": "code",
      "metadata": {
        "id": "iThuG3g30oYW",
        "colab_type": "code",
        "colab": {}
      },
      "source": [
        "from sklearn.model_selection import train_test_split\n",
        "from sklearn.linear_model import LogisticRegression\n",
        "from sklearn.metrics import confusion_matrix\n",
        "from sklearn.metrics import classification_report"
      ],
      "execution_count": 68,
      "outputs": []
    },
    {
      "cell_type": "code",
      "metadata": {
        "id": "xyhK2WOX0pAK",
        "colab_type": "code",
        "colab": {}
      },
      "source": [
        "def model_olustur(X, Y):\n",
        "    X_eğitim, X_test, y_eğitim, y_test =  train_test_split(X, Y, test_size=0.20, random_state=111, stratify = Y)\n",
        "    logreg_model = LogisticRegression()\n",
        "    logreg_model.fit(X_eğitim, y_eğitim)\n",
        "\n",
        "    tahmin_eğitim = logreg_model.predict(X_eğitim)\n",
        "    tahmin_test = logreg_model.predict(X_test)\n",
        "    hata_matrisi_eğitim = confusion_matrix(y_eğitim, tahmin_eğitim)\n",
        "    hata_matrisi_test = confusion_matrix(y_test, tahmin_test)\n",
        "    print(\"Modelin doğruluk değeri : \",  logreg_model.score(X_test, y_test))\n",
        "    print(\"Eğitim veri kümesi\")\n",
        "    print(classification_report(y_eğitim,tahmin_eğitim) )\n",
        "    print(\"Test veri kümesi\")\n",
        "    print(classification_report(y_test,tahmin_test) )\n",
        "    return  None"
      ],
      "execution_count": 69,
      "outputs": []
    },
    {
      "cell_type": "code",
      "metadata": {
        "id": "nOkM3viX00N3",
        "colab_type": "code",
        "colab": {
          "base_uri": "https://localhost:8080/",
          "height": 370
        },
        "outputId": "2c8dbade-c700-44e5-9f32-a6fb22a85f6c"
      },
      "source": [
        "X = data.drop('num_positive', axis=1)\n",
        "Y = data['num_positive']\n",
        "model_olustur(X,Y)"
      ],
      "execution_count": 70,
      "outputs": [
        {
          "output_type": "stream",
          "text": [
            "Modelin doğruluk değeri :  0.9428571428571428\n",
            "Eğitim veri kümesi\n",
            "              precision    recall  f1-score   support\n",
            "\n",
            "           0       0.97      1.00      0.98       128\n",
            "           1       1.00      0.60      0.75        10\n",
            "\n",
            "    accuracy                           0.97       138\n",
            "   macro avg       0.98      0.80      0.87       138\n",
            "weighted avg       0.97      0.97      0.97       138\n",
            "\n",
            "Test veri kümesi\n",
            "              precision    recall  f1-score   support\n",
            "\n",
            "           0       0.94      1.00      0.97        32\n",
            "           1       1.00      0.33      0.50         3\n",
            "\n",
            "    accuracy                           0.94        35\n",
            "   macro avg       0.97      0.67      0.73        35\n",
            "weighted avg       0.95      0.94      0.93        35\n",
            "\n"
          ],
          "name": "stdout"
        }
      ]
    },
    {
      "cell_type": "code",
      "metadata": {
        "id": "pTvXjyNA236j",
        "colab_type": "code",
        "colab": {}
      },
      "source": [
        "from sklearn.utils import resample"
      ],
      "execution_count": 71,
      "outputs": []
    },
    {
      "cell_type": "code",
      "metadata": {
        "id": "pchav_Ck13rJ",
        "colab_type": "code",
        "colab": {
          "base_uri": "https://localhost:8080/",
          "height": 67
        },
        "outputId": "8bd6968a-2398-4af7-8995-edcc687eb0b1"
      },
      "source": [
        "negative = data[data.num_positive == 0] #Azaltılmış\n",
        "positive = data[data.num_positive == 1]\n",
        "\n",
        "positive_azaltılmış = resample(negative ,\n",
        "                                     replace = True,\n",
        "                                     n_samples = len(positive),\n",
        "                                     random_state = 111)\n",
        "\n",
        "azaltılmış_data = pd.concat([positive, positive_azaltılmış])\n",
        "azaltılmış_data.num_positive.value_counts()"
      ],
      "execution_count": 72,
      "outputs": [
        {
          "output_type": "execute_result",
          "data": {
            "text/plain": [
              "1    13\n",
              "0    13\n",
              "Name: num_positive, dtype: int64"
            ]
          },
          "metadata": {
            "tags": []
          },
          "execution_count": 72
        }
      ]
    },
    {
      "cell_type": "code",
      "metadata": {
        "id": "cnNdJ0a94WvG",
        "colab_type": "code",
        "colab": {
          "base_uri": "https://localhost:8080/",
          "height": 370
        },
        "outputId": "93c91f63-3efb-48b6-fb80-3876fac40156"
      },
      "source": [
        "X = azaltılmış_data.drop('num_positive', axis=1)\n",
        "Y = azaltılmış_data['num_positive']\n",
        "model_olustur(X,Y)"
      ],
      "execution_count": 73,
      "outputs": [
        {
          "output_type": "stream",
          "text": [
            "Modelin doğruluk değeri :  1.0\n",
            "Eğitim veri kümesi\n",
            "              precision    recall  f1-score   support\n",
            "\n",
            "           0       1.00      1.00      1.00        10\n",
            "           1       1.00      1.00      1.00        10\n",
            "\n",
            "    accuracy                           1.00        20\n",
            "   macro avg       1.00      1.00      1.00        20\n",
            "weighted avg       1.00      1.00      1.00        20\n",
            "\n",
            "Test veri kümesi\n",
            "              precision    recall  f1-score   support\n",
            "\n",
            "           0       1.00      1.00      1.00         3\n",
            "           1       1.00      1.00      1.00         3\n",
            "\n",
            "    accuracy                           1.00         6\n",
            "   macro avg       1.00      1.00      1.00         6\n",
            "weighted avg       1.00      1.00      1.00         6\n",
            "\n"
          ],
          "name": "stdout"
        }
      ]
    },
    {
      "cell_type": "code",
      "metadata": {
        "id": "Px4jr4L24mph",
        "colab_type": "code",
        "colab": {
          "base_uri": "https://localhost:8080/",
          "height": 67
        },
        "outputId": "e356788c-9760-43e6-b7d2-71e2a1de6716"
      },
      "source": [
        "negative = data[data.num_positive == 0]\n",
        "positive = data[data.num_positive == 1]\n",
        "\n",
        "positive_arttırılmış = resample(positive ,\n",
        "                                     replace = True,\n",
        "                                     n_samples = len(negative),\n",
        "                                     random_state = 111)\n",
        "\n",
        "arttırılmış_data = pd.concat([negative, positive_arttırılmış])\n",
        "arttırılmış_data.num_positive.value_counts()"
      ],
      "execution_count": 75,
      "outputs": [
        {
          "output_type": "execute_result",
          "data": {
            "text/plain": [
              "1    160\n",
              "0    160\n",
              "Name: num_positive, dtype: int64"
            ]
          },
          "metadata": {
            "tags": []
          },
          "execution_count": 75
        }
      ]
    },
    {
      "cell_type": "code",
      "metadata": {
        "id": "74G_moqh60j3",
        "colab_type": "code",
        "colab": {
          "base_uri": "https://localhost:8080/",
          "height": 370
        },
        "outputId": "6b382252-4792-4d35-9b71-562a1952d69a"
      },
      "source": [
        "X = arttırılmış_data.drop('num_positive', axis=1)\n",
        "Y = arttırılmış_data['num_positive']\n",
        "model_olustur(X,Y)"
      ],
      "execution_count": 78,
      "outputs": [
        {
          "output_type": "stream",
          "text": [
            "Modelin doğruluk değeri :  0.953125\n",
            "Eğitim veri kümesi\n",
            "              precision    recall  f1-score   support\n",
            "\n",
            "           0       1.00      0.95      0.97       128\n",
            "           1       0.95      1.00      0.97       128\n",
            "\n",
            "    accuracy                           0.97       256\n",
            "   macro avg       0.97      0.97      0.97       256\n",
            "weighted avg       0.97      0.97      0.97       256\n",
            "\n",
            "Test veri kümesi\n",
            "              precision    recall  f1-score   support\n",
            "\n",
            "           0       1.00      0.91      0.95        32\n",
            "           1       0.91      1.00      0.96        32\n",
            "\n",
            "    accuracy                           0.95        64\n",
            "   macro avg       0.96      0.95      0.95        64\n",
            "weighted avg       0.96      0.95      0.95        64\n",
            "\n"
          ],
          "name": "stdout"
        }
      ]
    },
    {
      "cell_type": "code",
      "metadata": {
        "id": "XQ1xwLMM7Kq2",
        "colab_type": "code",
        "colab": {}
      },
      "source": [
        "from imblearn.over_sampling import SMOTE"
      ],
      "execution_count": 79,
      "outputs": []
    },
    {
      "cell_type": "code",
      "metadata": {
        "id": "7hHn9GKk7M57",
        "colab_type": "code",
        "colab": {}
      },
      "source": [
        "Y = data.num_positive\n",
        "X = data.drop('num_positive', axis=1)\n",
        "\n",
        "sm = SMOTE(random_state=27, ratio=1.0)\n",
        "X_smote, y_smote = sm.fit_sample(X, Y)"
      ],
      "execution_count": 80,
      "outputs": []
    },
    {
      "cell_type": "code",
      "metadata": {
        "id": "CWC1OTTH7Y54",
        "colab_type": "code",
        "colab": {
          "base_uri": "https://localhost:8080/",
          "height": 370
        },
        "outputId": "b92c0f1b-91d1-4e6b-9e8a-577491a85b40"
      },
      "source": [
        "model_olustur(X_smote, y_smote)"
      ],
      "execution_count": 81,
      "outputs": [
        {
          "output_type": "stream",
          "text": [
            "Modelin doğruluk değeri :  0.953125\n",
            "Eğitim veri kümesi\n",
            "              precision    recall  f1-score   support\n",
            "\n",
            "           0       1.00      0.96      0.98       128\n",
            "           1       0.96      1.00      0.98       128\n",
            "\n",
            "    accuracy                           0.98       256\n",
            "   macro avg       0.98      0.98      0.98       256\n",
            "weighted avg       0.98      0.98      0.98       256\n",
            "\n",
            "Test veri kümesi\n",
            "              precision    recall  f1-score   support\n",
            "\n",
            "           0       0.97      0.94      0.95        32\n",
            "           1       0.94      0.97      0.95        32\n",
            "\n",
            "    accuracy                           0.95        64\n",
            "   macro avg       0.95      0.95      0.95        64\n",
            "weighted avg       0.95      0.95      0.95        64\n",
            "\n"
          ],
          "name": "stdout"
        }
      ]
    },
    {
      "cell_type": "code",
      "metadata": {
        "id": "OoKlLGLy7gTK",
        "colab_type": "code",
        "colab": {}
      },
      "source": [
        "from imblearn.over_sampling import ADASYN"
      ],
      "execution_count": 82,
      "outputs": []
    },
    {
      "cell_type": "code",
      "metadata": {
        "id": "yU9rEzMT7i5T",
        "colab_type": "code",
        "colab": {}
      },
      "source": [
        "Y = data.num_positive\n",
        "X = data.drop('num_positive', axis=1)\n",
        "\n",
        "ad = ADASYN()\n",
        "X_adasyn, y_adasyn = ad.fit_sample(X, Y)"
      ],
      "execution_count": 83,
      "outputs": []
    },
    {
      "cell_type": "code",
      "metadata": {
        "id": "MxPZLXUK7p9y",
        "colab_type": "code",
        "colab": {
          "base_uri": "https://localhost:8080/",
          "height": 370
        },
        "outputId": "9d715e80-dce9-41b3-ca81-f0faf78414e1"
      },
      "source": [
        "model_olustur(X_adasyn, y_adasyn)"
      ],
      "execution_count": 84,
      "outputs": [
        {
          "output_type": "stream",
          "text": [
            "Modelin doğruluk değeri :  0.921875\n",
            "Eğitim veri kümesi\n",
            "              precision    recall  f1-score   support\n",
            "\n",
            "           0       0.99      0.96      0.98       128\n",
            "           1       0.96      0.99      0.98       127\n",
            "\n",
            "    accuracy                           0.98       255\n",
            "   macro avg       0.98      0.98      0.98       255\n",
            "weighted avg       0.98      0.98      0.98       255\n",
            "\n",
            "Test veri kümesi\n",
            "              precision    recall  f1-score   support\n",
            "\n",
            "           0       0.94      0.91      0.92        32\n",
            "           1       0.91      0.94      0.92        32\n",
            "\n",
            "    accuracy                           0.92        64\n",
            "   macro avg       0.92      0.92      0.92        64\n",
            "weighted avg       0.92      0.92      0.92        64\n",
            "\n"
          ],
          "name": "stdout"
        }
      ]
    }
  ]
}